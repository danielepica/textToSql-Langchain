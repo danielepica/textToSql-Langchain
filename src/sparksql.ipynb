{
 "cells": [
  {
   "cell_type": "code",
   "metadata": {
    "ExecuteTime": {
     "end_time": "2024-07-22T09:49:28.082777Z",
     "start_time": "2024-07-22T09:49:27.329166Z"
    }
   },
   "source": [
    "from langchain.agents import create_spark_sql_agent\n",
    "from langchain_community.agent_toolkits import SparkSQLToolkit\n",
    "from langchain_community.utilities.spark_sql import SparkSQL\n",
    "from pyspark.sql import SparkSession\n"
   ],
   "outputs": [],
   "execution_count": 1
  },
  {
   "cell_type": "markdown",
   "metadata": {},
   "source": [
    "Carichiamo il nostro file csv"
   ]
  },
  {
   "cell_type": "code",
   "metadata": {
    "ExecuteTime": {
     "end_time": "2024-07-22T09:49:46.279941Z",
     "start_time": "2024-07-22T09:49:37.633822Z"
    }
   },
   "source": [
    "from pyspark.sql import SparkSession\n",
    "\n",
    "spark = SparkSession.builder.getOrCreate()\n",
    "schema = \"progetto_big_data\"\n",
    "spark.sql(f\"CREATE DATABASE IF NOT EXISTS {schema}\")\n",
    "spark.sql(f\"USE {schema}\")\n",
    "csv_file_path = \"/Users/danielepica/Desktop/Big_Data/progetto_personale/LangChain/Sales Transaction.csv\"\n",
    "table = \"selling\"\n",
    "spark.read.csv(csv_file_path, header=True, inferSchema=True).write.saveAsTable(table)\n",
    "spark.table(table).show()"
   ],
   "outputs": [
    {
     "name": "stderr",
     "output_type": "stream",
     "text": [
      "24/07/22 11:49:39 WARN Utils: Your hostname, MacBook-Pro-di-Daniele.local resolves to a loopback address: 127.0.0.1; using 192.168.0.103 instead (on interface en0)\n",
      "24/07/22 11:49:39 WARN Utils: Set SPARK_LOCAL_IP if you need to bind to another address\n",
      "Setting default log level to \"WARN\".\n",
      "To adjust logging level use sc.setLogLevel(newLevel). For SparkR, use setLogLevel(newLevel).\n",
      "24/07/22 11:49:40 WARN NativeCodeLoader: Unable to load native-hadoop library for your platform... using builtin-java classes where applicable\n",
      "24/07/22 11:49:45 WARN MemoryManager: Total allocation exceeds 95,00% (1.020.054.720 bytes) of heap memory\n",
      "Scaling row group sizes to 95,00% for 8 writers\n",
      "24/07/22 11:49:45 WARN MemoryManager: Total allocation exceeds 95,00% (1.020.054.720 bytes) of heap memory\n",
      "Scaling row group sizes to 84,44% for 9 writers\n",
      "24/07/22 11:49:45 WARN MemoryManager: Total allocation exceeds 95,00% (1.020.054.720 bytes) of heap memory\n",
      "Scaling row group sizes to 76,00% for 10 writers\n",
      "24/07/22 11:49:45 WARN MemoryManager: Total allocation exceeds 95,00% (1.020.054.720 bytes) of heap memory\n",
      "Scaling row group sizes to 84,44% for 9 writers\n",
      "24/07/22 11:49:45 WARN MemoryManager: Total allocation exceeds 95,00% (1.020.054.720 bytes) of heap memory\n",
      "Scaling row group sizes to 95,00% for 8 writers\n",
      "                                                                                \r"
     ]
    },
    {
     "name": "stdout",
     "output_type": "stream",
     "text": [
      "+-------------+---------+---------+--------------------+-----+--------+----------+--------------+\n",
      "|TransactionNo|     Date|ProductNo|         ProductName|Price|Quantity|CustomerNo|       Country|\n",
      "+-------------+---------+---------+--------------------+-----+--------+----------+--------------+\n",
      "|       558533|6/30/2019|   82494L|Wooden Frame Anti...|13.27|       6|     16717|United Kingdom|\n",
      "|       558533|6/30/2019|    84755|Colour Glass T-Li...|10.92|      16|     16717|United Kingdom|\n",
      "|       558533|6/30/2019|    84949|Silver Hanging T-...|11.94|       6|     16717|United Kingdom|\n",
      "|       558533|6/30/2019|   85123A|Cream Hanging Hea...|13.27|       6|     16717|United Kingdom|\n",
      "|       558534|6/30/2019|    23025|Drawer Knob Vinta...|12.38|      12|     13988|United Kingdom|\n",
      "|       558534|6/30/2019|    23032|Drawer Knob Crack...|11.94|       6|     13988|United Kingdom|\n",
      "|       558534|6/30/2019|    21932|Scandinavian Pais...|11.94|      10|     13988|United Kingdom|\n",
      "|       558534|6/30/2019|    21992|Vintage Paisley S...|11.53|      24|     13988|United Kingdom|\n",
      "|       558534|6/30/2019|    21990|Modern Floral Sta...|11.53|      12|     13988|United Kingdom|\n",
      "|       558534|6/30/2019|    21993|Floral Folk Stati...|11.53|      12|     13988|United Kingdom|\n",
      "|       558534|6/30/2019|    37342|Polkadot Coffee C...|11.06|      24|     13988|United Kingdom|\n",
      "|       558534|6/30/2019|    37340|Multicolour Sprin...|10.65|      48|     13988|United Kingdom|\n",
      "|       558534|6/30/2019|   79030D|     Tumbler Baroque|10.65|      24|     13988|United Kingdom|\n",
      "|       558534|6/30/2019|    85015|Set Of 12 Vintage...|10.92|      24|     13988|United Kingdom|\n",
      "|       558534|6/30/2019|    85078|Scandinavian 3 He...|10.44|      24|     13988|United Kingdom|\n",
      "|       558534|6/30/2019|   85159B|White Tea Coffee ...|12.25|      12|     13988|United Kingdom|\n",
      "|       558534|6/30/2019|    22625|  Red Kitchen Scales|18.96|       2|     13988|United Kingdom|\n",
      "|       558534|6/30/2019|    23283|Doormat Vintage Leaf| 18.4|       2|     13988|United Kingdom|\n",
      "|       558534|6/30/2019|    23244|Round Storage Tin...|12.25|       6|     13988|United Kingdom|\n",
      "|       558534|6/30/2019|   85123A|Cream Hanging Hea...|13.27|       6|     13988|United Kingdom|\n",
      "+-------------+---------+---------+--------------------+-----+--------+----------+--------------+\n",
      "only showing top 20 rows\n",
      "\n"
     ]
    }
   ],
   "execution_count": 2
  },
  {
   "cell_type": "code",
   "metadata": {
    "ExecuteTime": {
     "end_time": "2024-07-22T09:50:14.378570Z",
     "start_time": "2024-07-22T09:50:13.915648Z"
    }
   },
   "source": [
    "from langchain_core.prompts import ChatPromptTemplate\n",
    "from langchain_groq import ChatGroq\n",
    "\n",
    "chat = ChatGroq(\n",
    "    temperature=0,\n",
    "    model=\"llama3-70b-8192\",\n",
    "    api_key=\"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\" # Optional if not set as an environment variable\n",
    ")\n"
   ],
   "outputs": [],
   "execution_count": 3
  },
  {
   "cell_type": "code",
   "metadata": {
    "ExecuteTime": {
     "end_time": "2024-07-22T09:50:17.812421Z",
     "start_time": "2024-07-22T09:50:17.080642Z"
    }
   },
   "source": [
    "spark_sql = SparkSQL(schema=schema)"
   ],
   "outputs": [],
   "execution_count": 4
  },
  {
   "cell_type": "code",
   "metadata": {
    "ExecuteTime": {
     "end_time": "2024-07-22T09:50:19.398325Z",
     "start_time": "2024-07-22T09:50:19.392956Z"
    }
   },
   "source": [
    "from langchain.agents import AgentType"
   ],
   "outputs": [],
   "execution_count": 5
  },
  {
   "cell_type": "code",
   "metadata": {
    "ExecuteTime": {
     "end_time": "2024-07-22T09:50:24.888271Z",
     "start_time": "2024-07-22T09:50:24.532271Z"
    }
   },
   "source": [
    "spark_sql = SparkSQL(schema=schema)\n",
    "toolkit = SparkSQLToolkit(db=spark_sql, llm=chat)\n",
    "agent_executor = create_spark_sql_agent(llm=chat, toolkit=toolkit, verbose=True, handle_parsing_errors=True)"
   ],
   "outputs": [],
   "execution_count": 6
  },
  {
   "cell_type": "code",
   "metadata": {
    "ExecuteTime": {
     "end_time": "2024-07-22T09:57:24.385677Z",
     "start_time": "2024-07-22T09:56:42.750017Z"
    }
   },
   "source": "agent_executor.invoke(\"Qual è il prodotto più acquistato?\")",
   "outputs": [
    {
     "name": "stdout",
     "output_type": "stream",
     "text": [
      "\n",
      "\n",
      "\u001B[1m> Entering new AgentExecutor chain...\u001B[0m\n",
      "\u001B[32;1m\u001B[1;3mThought: I should look at the tables in the database to see what I can query.\n",
      "Action: list_tables_sql_db\n",
      "Action Input: \u001B[0m\n",
      "Observation: \u001B[38;5;200m\u001B[1;3mselling\u001B[0m\n",
      "Thought:\u001B[32;1m\u001B[1;3mI have a list of tables, and I see that there is a table called \"selling\". This could be relevant to the question about the most purchased product.\n",
      "Action: schema_sql_db\n",
      "Action Input: selling\u001B[0m\n",
      "Observation: \u001B[33;1m\u001B[1;3mCREATE TABLE spark_catalog.progetto_big_data.selling (\n",
      "  TransactionNo STRING,\n",
      "  Date STRING,\n",
      "  ProductNo STRING,\n",
      "  ProductName STRING,\n",
      "  Price DOUBLE,\n",
      "  Quantity INT,\n",
      "  CustomerNo STRING,\n",
      "  Country STRING)\n",
      ";\n",
      "\n",
      "/*\n",
      "3 rows from selling table:\n",
      "TransactionNo\tDate\tProductNo\tProductName\tPrice\tQuantity\tCustomerNo\tCountry\n",
      "558533\t6/30/2019\t82494L\tWooden Frame Antique White\t13.27\t6\t16717\tUnited Kingdom\n",
      "558533\t6/30/2019\t84755\tColour Glass T-Light Holder Hanging\t10.92\t16\t16717\tUnited Kingdom\n",
      "558533\t6/30/2019\t84949\tSilver Hanging T-Light Holder\t11.94\t6\t16717\tUnited Kingdom\n",
      "*/\u001B[0m\n",
      "Thought:\u001B[32;1m\u001B[1;3mThought: I have the schema of the \"selling\" table, and I see that it has columns for ProductName, Price, and Quantity. I can use these columns to find the most purchased product.\n",
      "\n",
      "Action: query_checker_sql_db\n",
      "Action Input: SELECT ProductName, SUM(Quantity) as TotalQuantity FROM selling GROUP BY ProductName ORDER BY TotalQuantity DESC LIMIT 10\u001B[0m\n",
      "Observation: \u001B[36;1m\u001B[1;3mThe original query looks good and does not contain any of the common mistakes mentioned. It is properly quoting identifiers, using the correct number of arguments for functions, casting to the correct data type, and using the proper columns for joins.\n",
      "\n",
      "Here is the original query again:\n",
      "\n",
      "```\n",
      "SELECT ProductName, SUM(Quantity) as TotalQuantity \n",
      "FROM selling \n",
      "GROUP BY ProductName \n",
      "ORDER BY TotalQuantity DESC \n",
      "LIMIT 10\n",
      "```\n",
      "\n",
      "This query is selecting the product name and the total quantity sold for each product, grouping the results by product name, ordering the results by the total quantity in descending order, and limiting the results to the top 10 products.\u001B[0m\n",
      "Thought:\u001B[32;1m\u001B[1;3mThought: I have checked the query and it looks good. I can now execute it to get the results.\n",
      "\n",
      "Action: query_sql_db\n",
      "Action Input: SELECT ProductName, SUM(Quantity) as TotalQuantity FROM selling GROUP BY ProductName ORDER BY TotalQuantity DESC LIMIT 10\u001B[0m\n",
      "Observation: \u001B[36;1m\u001B[1;3m[('Popcorn Holder', '56450'), ('World War 2 Gliders Asstd Designs', '53847'), ('Jumbo Bag Red Retrospot', '47363'), ('Assorted Colour Bird Ornament', '36445'), ('Pack Of 72 Retrospot Cake Cases', '36231'), ('Cream Hanging Heart T-Light Holder', '35378'), ('Rabbit Night Light', '30680'), ('Mini Paint Set Vintage', '26437'), ('Pack Of 12 London Tissues', '25907'), ('Pack Of 60 Pink Paisley Cake Cases', '24753')]\u001B[0m\n",
      "Thought:\u001B[32;1m\u001B[1;3mI now know the final answer.\n",
      "\n",
      "Final Answer: Il prodotto più acquistato è il \"Popcorn Holder\".\u001B[0m\n",
      "\n",
      "\u001B[1m> Finished chain.\u001B[0m\n"
     ]
    },
    {
     "data": {
      "text/plain": [
       "{'input': 'Qual è il prodotto più acquistato?',\n",
       " 'output': 'Il prodotto più acquistato è il \"Popcorn Holder\".'}"
      ]
     },
     "execution_count": 9,
     "metadata": {},
     "output_type": "execute_result"
    }
   ],
   "execution_count": 9
  },
  {
   "metadata": {},
   "cell_type": "code",
   "outputs": [],
   "execution_count": null,
   "source": ""
  }
 ],
 "metadata": {
  "kernelspec": {
   "display_name": "LangChain",
   "language": "python",
   "name": "python3"
  },
  "language_info": {
   "codemirror_mode": {
    "name": "ipython",
    "version": 3
   },
   "file_extension": ".py",
   "mimetype": "text/x-python",
   "name": "python",
   "nbconvert_exporter": "python",
   "pygments_lexer": "ipython3",
   "version": "3.8.19"
  }
 },
 "nbformat": 4,
 "nbformat_minor": 2
}
